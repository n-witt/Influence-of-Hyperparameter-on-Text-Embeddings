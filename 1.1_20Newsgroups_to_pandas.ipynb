{
 "cells": [
  {
   "cell_type": "markdown",
   "metadata": {
    "collapsed": false,
    "deletable": true,
    "editable": true
   },
   "source": [
    "# 20Newsgroups review corpus\n",
    "\n",
    "Like in the [previous](1.0_Amazon_corpus_to_pandas.ipynb) notebook this notebook deals with the transformation of a raw corpus into the Pandas-based formant that is required by the subsequent components.\n",
    "\n",
    "The 20NEWSGROUPS data set was downloaded from [this](http://qwone.com/~jason/20Newsgroups/20news-bydate.tar.gz) location.  \n",
    "In the `tar.gz` file there are two folders (`20news-bydate-test` and `20news-bydate-train`) each containing 20 subfolder named by their corresponding category (e.g. `alt.atheism`, `comp.graphics` and `comp.os.ms-windows.misc`), which in turn contain one file per text.  \n",
    "For example the file `20news-bydate-train/rec.autos/103532` looks like this:\n",
    "```\n",
    "From: hkon@mit.edu (Henry Kon)\n",
    "Subject: sunroof leaks - I'm all wet\n",
    "Organization: MIT\n",
    "Lines: 8\n",
    "NNTP-Posting-Host: msiegel.mit.edu\n",
    "\n",
    "My sunroof leaks.  I've always thought those things were a royal pain.\n",
    "\n",
    "Can anyone provide any insight ?\n",
    "\n",
    "I know the seal isn't great.  Maybe I could weld the stupid thing shut.\n",
    "\n",
    "hk\n",
    "\n",
    "```\n",
    "That means the text is contained in the files whereas the information about the categorical membership is encoded in the path to each file.\n",
    "\n",
    "__Note:__ We refuse the default train/test split as we use our own Cross-validation strategy."
   ]
  },
  {
   "cell_type": "code",
   "execution_count": null,
   "metadata": {
    "collapsed": true,
    "deletable": true,
    "editable": true
   },
   "outputs": [],
   "source": [
    "raw_corpus_path = 'data/20NEWSGROUPS/corpus'\n",
    "pd_corpus_path = 'data/20NEWSGROUPS/dataframes'"
   ]
  },
  {
   "cell_type": "code",
   "execution_count": null,
   "metadata": {
    "collapsed": false,
    "deletable": true,
    "editable": true
   },
   "outputs": [],
   "source": [
    "import os\n",
    "import pandas as pd\n",
    "from tqdm import tqdm\n",
    "\n",
    "documents = []\n",
    "for dirpath, dirnames, filenames in tqdm(os.walk(raw_corpus_path)):\n",
    "    for f in filenames:\n",
    "        datapoint = {}\n",
    "        with open(dirpath + os.sep + f, encoding='utf-8', errors='ignore') as fh:\n",
    "            text = fh.read()\n",
    "            if len(text) >= 10:\n",
    "                category = dirpath.split(os.sep)[-1]\n",
    "                datapoint = {\n",
    "                    'id': f,\n",
    "                    'text': text,\n",
    "                    'category': category\n",
    "                }\n",
    "            else:\n",
    "                continue\n",
    "            documents.append(pd.Series(datapoint))\n",
    "\n",
    "print('loading data has finished. compiling dataframe now')\n",
    "df = pd.DataFrame(documents)\n",
    "df.to_pickle(pd_corpus_path + '/20NEWSGROUPS.pkl')"
   ]
  }
 ],
 "metadata": {
  "kernelspec": {
   "display_name": "Python [default]",
   "language": "python",
   "name": "python3"
  },
  "language_info": {
   "codemirror_mode": {
    "name": "ipython",
    "version": 3
   },
   "file_extension": ".py",
   "mimetype": "text/x-python",
   "name": "python",
   "nbconvert_exporter": "python",
   "pygments_lexer": "ipython3",
   "version": "3.5.2"
  }
 },
 "nbformat": 4,
 "nbformat_minor": 1
}
