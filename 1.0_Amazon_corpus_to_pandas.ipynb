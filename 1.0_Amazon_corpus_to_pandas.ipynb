{
 "cells": [
  {
   "cell_type": "markdown",
   "metadata": {
    "deletable": true,
    "editable": true
   },
   "source": [
    "# Amazon review corpus\n",
    "\n",
    "The purpose of this notebook is to transform the raw corpus into a [Pandas](http://pandas.pydata.org/) `DataFrame` with a standardized format. The format is fairly simple:\n",
    "* Each row contains a review\n",
    "* There are two columns named `text` and `category` containing the respective information\n",
    "\n",
    "Every data set obeying these simple rules can be plugged into the forthcoming pipeline.\n",
    "\n",
    "The data set was downloaded from [this](http://jmcauley.ucsd.edu/data/amazon/) location. We chose the following files:\n",
    "* `reviews_Books_5.json`\n",
    "* `reviews_Electronics_5.json`\n",
    "* `reviews_Home_and_Kitchen_5.json`\n",
    "* `reviews_Movies_and_TV_5.json`\n",
    "\n",
    "As the `5` at the end of the file name indicates, we selected the 5-core versions. This guarantees that each item has at least 5 reviews.\n",
    "\n",
    "Each line of each file contains a JSON object. For example the first line of `reviews_Home_and_Kitchen_5.json` looks like this:\n",
    "\n",
    "`{\"reviewerID\": \"APYOBQE6M18AA\", \"asin\": \"0615391206\", \"reviewerName\": \"Martin Schwartz\", \"helpful\": [0, 0], \"reviewText\": \"My daughter wanted this book and the price on Amazon was the best.  She has already tried one recipe a day after receiving the book.  She seems happy with it.\", \"overall\": 5.0, \"summary\": \"Best Price\", \"unixReviewTime\": 1382140800, \"reviewTime\": \"10 19, 2013\"}`\n",
    "\n",
    "The data set contains several useful information but in this work we are only interested in the `reviewText` field as well as the assigned class which is determined by the filename (e.b. `reviews_Movies_and_TV_5.json` -> `reviews_Movies_and_TV`)"
   ]
  },
  {
   "cell_type": "markdown",
   "metadata": {
    "deletable": true,
    "editable": true
   },
   "source": [
    "The variables `raw_corpus_path` and `pd_corpus_path` may need some adaption.\n",
    "\n",
    "* `raw_corpus_path` is expected to contain a path to a folder that contains the raw data set files (like `reviews_Books_5.json`) and nothing else.\n",
    "* The resulting Pandas DataFrame  will be stored into the directory referred to by `raw_corpus_path`."
   ]
  },
  {
   "cell_type": "code",
   "execution_count": null,
   "metadata": {
    "collapsed": true,
    "deletable": true,
    "editable": true
   },
   "outputs": [],
   "source": [
    "raw_corpus_path = 'data/AMAZON/raw'\n",
    "pd_corpus_path = 'data/AMAZON/dataframes'"
   ]
  },
  {
   "cell_type": "code",
   "execution_count": null,
   "metadata": {
    "collapsed": false,
    "deletable": true,
    "editable": true
   },
   "outputs": [],
   "source": [
    "from os import walk, sep\n",
    "import pandas as pd\n",
    "from tqdm import tqdm\n",
    "import json\n",
    "\n",
    "reviews = []\n",
    "for root, dirs, files in walk(raw_corpus_path):\n",
    "    for file in files:\n",
    "        with open(root + '/' + file) as fh:\n",
    "            for line in tqdm(fh):\n",
    "                datapoint = json.loads(line)\n",
    "                category = file.replace('reviews_', '')\n",
    "                category = category.replace('_5.json', '')\n",
    "                datapoint['category'] = category\n",
    "                datapoint['text'] = datapoint.pop('reviewText')\n",
    "                reviews.append(pd.Series(datapoint))\n",
    "print('Processing finished. Start compiling DataFrame.')\n",
    "df = pd.DataFrame(reviews)\n",
    "df.to_pickle(pd_corpus_path + '/amazon.pkl')\n",
    "print('finished')"
   ]
  }
 ],
 "metadata": {
  "kernelspec": {
   "display_name": "Python [default]",
   "language": "python",
   "name": "python3"
  },
  "language_info": {
   "codemirror_mode": {
    "name": "ipython",
    "version": 3
   },
   "file_extension": ".py",
   "mimetype": "text/x-python",
   "name": "python",
   "nbconvert_exporter": "python",
   "pygments_lexer": "ipython3",
   "version": "3.5.2"
  }
 },
 "nbformat": 4,
 "nbformat_minor": 1
}
